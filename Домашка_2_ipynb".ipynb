{
  "nbformat": 4,
  "nbformat_minor": 0,
  "metadata": {
    "colab": {
      "name": "Домашка 2.ipynb\"",
      "provenance": [],
      "collapsed_sections": [],
      "include_colab_link": true
    },
    "kernelspec": {
      "name": "python3",
      "display_name": "Python 3"
    }
  },
  "cells": [
    {
      "cell_type": "markdown",
      "metadata": {
        "id": "view-in-github",
        "colab_type": "text"
      },
      "source": [
        "<a href=\"https://colab.research.google.com/github/2loopoff/MLHomeworks/blob/main/%D0%94%D0%BE%D0%BC%D0%B0%D1%88%D0%BA%D0%B0_2_ipynb%22.ipynb\" target=\"_parent\"><img src=\"https://colab.research.google.com/assets/colab-badge.svg\" alt=\"Open In Colab\"/></a>"
      ]
    },
    {
      "cell_type": "code",
      "metadata": {
        "id": "OoRenk6WqY4R"
      },
      "source": [
        "import numpy as np\n",
        "import matplotlib.pyplot as plt"
      ],
      "execution_count": null,
      "outputs": []
    },
    {
      "cell_type": "markdown",
      "metadata": {
        "id": "CT2JoHS6qwO3"
      },
      "source": [
        "Consider the following toy dataset:"
      ]
    },
    {
      "cell_type": "code",
      "metadata": {
        "id": "Iw0VSmXsqjt9"
      },
      "source": [
        "true_function = lambda x: 3.25 * x - 1.47\n",
        "noize_function = lambda x: (\n",
        "    np.random.normal(size=len(x)) * 4. +\n",
        "    np.where(\n",
        "        x < 15,\n",
        "        0.,\n",
        "        -60 + np.random.normal(size=len(x)) * 10\n",
        "    ) * (np.random.uniform(size=len(x)) < 0.4).astype(int)\n",
        ")\n",
        "limits = (-4., 20.)\n",
        "\n",
        "def generate_dataset(N=300):\n",
        "  x = np.random.uniform(*limits, size=N)\n",
        "  y = true_function(x)+ noize_function(x)\n",
        "\n",
        "  return x[:,None], y\n",
        "\n",
        "X, y = generate_dataset(50)\n",
        "\n"
      ],
      "execution_count": null,
      "outputs": []
    },
    {
      "cell_type": "code",
      "metadata": {
        "id": "KnhMo2V6Z7J7",
        "outputId": "874a7aee-84a7-43db-d5c3-5bb207ae68e4",
        "colab": {
          "base_uri": "https://localhost:8080/",
          "height": 34
        }
      },
      "source": [
        "y[:4]\n",
        "# print(y[:4])"
      ],
      "execution_count": null,
      "outputs": [
        {
          "output_type": "execute_result",
          "data": {
            "text/plain": [
              "array([36.15265866, 38.63940484,  0.68303518, 43.95910503])"
            ]
          },
          "metadata": {
            "tags": []
          },
          "execution_count": 5
        }
      ]
    },
    {
      "cell_type": "code",
      "metadata": {
        "id": "n17Nb2SDZ5xe",
        "outputId": "d5bc12f2-108a-4ce0-b7f8-48c2d2239722",
        "colab": {
          "base_uri": "https://localhost:8080/",
          "height": 265
        }
      },
      "source": [
        "x = np.linspace(*limits, 11)\n",
        "plt.plot(x, true_function(x), c='black', label='True dependence')\n",
        "plt.scatter(X, y, s=10, label='Data with noise and outliers')\n",
        "plt.legend();"
      ],
      "execution_count": null,
      "outputs": [
        {
          "output_type": "display_data",
          "data": {
            "image/png": "[encoded data removed]",
            "text/plain": [
              "<Figure size 432x288 with 1 Axes>"
            ]
          },
          "metadata": {
            "tags": [],
            "needs_background": "light"
          }
        }
      ]
    },
    {
      "cell_type": "markdown",
      "metadata": {
        "id": "s8renktssa3B"
      },
      "source": [
        "## Task 1"
      ]
    },
    {
      "cell_type": "code",
      "metadata": {
        "id": "HH51wikm_GTN"
      },
      "source": [
        "from sklearn.preprocessing import PolynomialFeatures\n",
        "\n",
        "poly_expand = PolynomialFeatures(1, include_bias=False)\n",
        "poly_expand.fit_transform(np.arange(1)[:,None])\n",
        "\n",
        "X_expanded = np.concatenate([\n",
        "    poly_expand.transform(X), np.ones(shape=(len(X), 1))#Чтобы склеить преобразованные фичи.\n",
        "], axis=1)\n"
      ],
      "execution_count": null,
      "outputs": []
    },
    {
      "cell_type": "code",
      "metadata": {
        "id": "kIYLXbTcC1jN",
        "outputId": "01ddd82e-18ab-486f-d881-11f169908e5e",
        "colab": {
          "base_uri": "https://localhost:8080/",
          "height": 153
        }
      },
      "source": [
        "print(X[:3])\n",
        "print(X_expanded[:5])"
      ],
      "execution_count": null,
      "outputs": [
        {
          "output_type": "stream",
          "text": [
            "[[16.80959598]\n",
            " [19.42995354]\n",
            " [ 7.74321961]]\n",
            "[[16.80959598  1.        ]\n",
            " [19.42995354  1.        ]\n",
            " [ 7.74321961  1.        ]\n",
            " [ 1.69837893  1.        ]\n",
            " [ 0.84544777  1.        ]]\n"
          ],
          "name": "stdout"
        }
      ]
    },
    {
      "cell_type": "code",
      "metadata": {
        "id": "UCIxFMkIDo9H"
      },
      "source": [
        "# Initialize the model parameters with zeros\n",
        "w = np.zeros(dtype=float, shape=X_expanded.shape[1])\n",
        "\n",
        "loss_values = [] # a list to keep track of how the loss value changes\n",
        "learning_rate = 0.01\n"
      ],
      "execution_count": null,
      "outputs": []
    },
    {
      "cell_type": "code",
      "metadata": {
        "id": "8NZfG1CwDqVF",
        "outputId": "9ad937fb-1c87-481b-c7c4-d6dd3e6e4e0f",
        "colab": {
          "base_uri": "https://localhost:8080/",
          "height": 51
        }
      },
      "source": [
        "print(w)\n",
        "gradient = 2.0/len(X_expanded)*X_expanded.T @ (X_expanded @ w - y)/(2*np.sqrt((X_expanded @ w - y).T @ (X_expanded @ w - y) ))\n",
        "print(gradient)"
      ],
      "execution_count": null,
      "outputs": [
        {
          "output_type": "stream",
          "text": [
            "[0. 0.]\n",
            "[-1.46197589 -0.10469616]\n"
          ],
          "name": "stdout"
        }
      ]
    },
    {
      "cell_type": "code",
      "metadata": {
        "id": "odU8OMnpmWOW",
        "outputId": "49fab856-2312-45c7-b427-2473698ea3fd",
        "colab": {
          "base_uri": "https://localhost:8080/",
          "height": 51
        }
      },
      "source": [
        "(abs(X_expanded @ w - y)).mean()\n",
        "np.sqrt((X_expanded @ w - y).T @ (X_expanded @ w - y) )\n",
        "w-=learning_rate * gradient\n",
        "print(w)\n",
        "gradient = 1.0/len(X_expanded)*X_expanded.T @ (X_expanded @ w - y)/(np.sqrt((X_expanded @ w - y).T @ (X_expanded @ w - y) ))\n",
        "print('grad = ',gradient)\n",
        "assert gradient.shape == w.shape\n",
        "assert (\n",
        "      ((abs(X_expanded @ w - y)).mean() > \n",
        "      (abs(X_expanded @ (w - 1.e-6 * gradient) - y)).mean()\n",
        "  ))"
      ],
      "execution_count": null,
      "outputs": [
        {
          "output_type": "stream",
          "text": [
            "[1.46197589 0.10469616]\n",
            "grad =  [-1.00499048 -0.07227715]\n"
          ],
          "name": "stdout"
        }
      ]
    },
    {
      "cell_type": "code",
      "metadata": {
        "id": "gwcsYPnOI98U"
      },
      "source": [
        "# Training loop\n",
        "for _ in range(1000):\n",
        "  # Your turn: calculate the gradient of MSE with respect to w:\n",
        "  gradient = 1.0/len(X_expanded)*X_expanded.T @ (X_expanded @ w - y)/(np.sqrt((X_expanded @ w - y).T @ (X_expanded @ w - y) ))\n",
        "  print('grad = ',gradient)\n",
        "  # Automatic checks\n",
        "  assert gradient.shape == w.shape\n",
        "  assert (\n",
        "      ((abs(X_expanded @ w - y)).mean() > \n",
        "      (abs(X_expanded @ (w - 1.e-6 * gradient) - y)).mean()\n",
        "  ))\n",
        "\n",
        "  # Gradient descent step\n",
        "  w -= learning_rate * gradient\n",
        "\n",
        "  # Calculate and record the new loss value\n",
        "  loss_values.append(\n",
        "      (abs(X_expanded @ w - y)).mean()\n",
        "  )"
      ],
      "execution_count": null,
      "outputs": []
    },
    {
      "cell_type": "code",
      "metadata": {
        "id": "mvLIKfHkDyn9",
        "outputId": "497fa803-6477-45f9-abc8-1f1b2a21c2cd",
        "colab": {
          "base_uri": "https://localhost:8080/",
          "height": 513
        }
      },
      "source": [
        "# Plotting the evolution of loss values\n",
        "plt.plot(loss_values);\n",
        "plt.show()\n",
        "\n",
        "\n",
        "# Plotting the solution\n",
        "x = np.linspace(-2.5, 15, 101)\n",
        "x_expanded = np.concatenate([\n",
        "    poly_expand.transform(x[:,None]),\n",
        "    np.ones(shape=(len(x), 1))\n",
        "], axis=1)\n",
        "plt.plot(x, true_function(x), label='true function')\n",
        "plt.scatter(X, y);\n",
        "plt.plot(x,\n",
        "         x_expanded @ w, label='prediction')\n",
        "plt.ylim(y.min() - 0.5, y.max() + 0.5)\n",
        "plt.legend();"
      ],
      "execution_count": null,
      "outputs": [
        {
          "output_type": "display_data",
          "data": {
            "image/png": "[encoded data removed]",
            "text/plain": [
              "<Figure size 432x288 with 1 Axes>"
            ]
          },
          "metadata": {
            "tags": [],
            "needs_background": "light"
          }
        },
        {
          "output_type": "display_data",
          "data": {
            "image/png": "[encoded data removed]",
            "text/plain": [
              "<Figure size 432x288 with 1 Axes>"
            ]
          },
          "metadata": {
            "tags": [],
            "needs_background": "light"
          }
        }
      ]
    },
    {
      "cell_type": "code",
      "metadata": {
        "id": "gZUD92bj-RGT",
        "outputId": "fff960d7-f936-4705-896b-eb414702b0e9",
        "colab": {
          "base_uri": "https://localhost:8080/"
        }
      },
      "source": [
        "print(loss_values[:5])"
      ],
      "execution_count": null,
      "outputs": [
        {
          "output_type": "stream",
          "text": [
            "[313.4606295823427, 152.91327174383136, 74.8909360190667, 36.973675233837774, 18.546467346065192]\n"
          ],
          "name": "stdout"
        }
      ]
    },
    {
      "cell_type": "markdown",
      "metadata": {
        "id": "Hb2ZSiiiscQy"
      },
      "source": [
        "Implement a linear model $\\hat y(x|w) = w_1\\cdot x + w_0$ with MAE loss:\n",
        "$$\\text{MAE}(w) = \\frac{1}{N}\\sum_{i=1}^N\\left|y_i - \\hat y(x_i|w)\\right|,$$\n",
        "using gradient descent optimization in `numpy`.\n",
        "\n",
        "*Hint: introduce a constant feature to account for the bias term to make the formulas simpler.*\n",
        "\n",
        "Plot the learning curve and the final fit. Also, fit the same data with `sklearn`'s `LinearRegression`, and compare the two fits on the same plot. What do you observe? Write a short comment."
      ]
    }
  ]
}